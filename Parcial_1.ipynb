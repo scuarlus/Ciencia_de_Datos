{
  "nbformat": 4,
  "nbformat_minor": 0,
  "metadata": {
    "colab": {
      "provenance": [],
      "include_colab_link": true
    },
    "kernelspec": {
      "name": "python3",
      "display_name": "Python 3"
    },
    "language_info": {
      "name": "python"
    }
  },
  "cells": [
    {
      "cell_type": "markdown",
      "metadata": {
        "id": "view-in-github",
        "colab_type": "text"
      },
      "source": [
        "<a href=\"https://colab.research.google.com/github/scuarlus/Matplotlib/blob/main/Parcial_1.ipynb\" target=\"_parent\"><img src=\"https://colab.research.google.com/assets/colab-badge.svg\" alt=\"Open In Colab\"/></a>"
      ]
    },
    {
      "cell_type": "markdown",
      "source": [
        "Primer ejercicio: Crea un array de NumPy con los números del 1 al 100 e imprime los múltiplos\n",
        "de 7."
      ],
      "metadata": {
        "id": "37osoLJKZmVf"
      }
    },
    {
      "cell_type": "code",
      "execution_count": null,
      "metadata": {
        "colab": {
          "base_uri": "https://localhost:8080/"
        },
        "id": "44wnssn9ZZvK",
        "outputId": "203c9530-8fa8-4f83-9dc5-614f6b31edf3"
      },
      "outputs": [
        {
          "output_type": "stream",
          "name": "stdout",
          "text": [
            "Múltiplos de 7 entre 1 y 100: [ 7 14 21 28 35 42 49 56 63 70 77 84 91 98]\n"
          ]
        }
      ],
      "source": [
        "import numpy as np\n",
        "\n",
        "array = np.arange(1, 101)\n",
        "multiplos_de_7 = array[array % 7 == 0]\n",
        "\n",
        "print(\"Múltiplos de 7 entre 1 y 100:\", multiplos_de_7)\n"
      ]
    },
    {
      "cell_type": "markdown",
      "source": [
        "Segundo ejercicio Crea una matriz de 4x4 con números aleatorios enteros entre 10 y 50. Luego\n",
        "reemplaza los valores impares por -1."
      ],
      "metadata": {
        "id": "UwO6OfidajfM"
      }
    },
    {
      "cell_type": "code",
      "source": [
        "import numpy as np\n",
        "\n",
        "\n",
        "matriz = np.random.randint(10, 51, size=(4, 4))\n",
        "print(\"Matriz original:\\n\", matriz)\n",
        "\n",
        "\n",
        "matriz[matriz % 2 != 0] = -1\n",
        "print(\"\\nMatriz con impares reemplazados por -1:\\n\", matriz)\n"
      ],
      "metadata": {
        "colab": {
          "base_uri": "https://localhost:8080/"
        },
        "id": "AgbhVksTZl-G",
        "outputId": "be4d69e9-fbf6-4576-d752-95fe12ff7bb1"
      },
      "execution_count": null,
      "outputs": [
        {
          "output_type": "stream",
          "name": "stdout",
          "text": [
            "Matriz original:\n",
            " [[21 32 16 33]\n",
            " [15 47 39 47]\n",
            " [30 48 26 30]\n",
            " [20 42 15 20]]\n",
            "\n",
            "Matriz con impares reemplazados por -1:\n",
            " [[-1 32 16 -1]\n",
            " [-1 -1 -1 -1]\n",
            " [30 48 26 30]\n",
            " [20 42 -1 20]]\n"
          ]
        }
      ]
    },
    {
      "cell_type": "markdown",
      "source": [
        "Tercer ejercicio: Genera una matriz de 5x5 con valores entre 0 y 1 distribuidos uniformemente.\n",
        "Luego, calcula la suma por columnas."
      ],
      "metadata": {
        "id": "kjcwP8pTaoFE"
      }
    },
    {
      "cell_type": "code",
      "source": [
        "import numpy as np\n",
        "\n",
        "\n",
        "matriz = np.random.rand(5, 5)\n",
        "print(\"Matriz 5x5:\\n\", matriz)\n",
        "\n",
        "\n",
        "suma_columnas = matriz.sum(axis=0)\n",
        "print(\"\\nSuma por columnas:\\n\", suma_columnas)\n"
      ],
      "metadata": {
        "colab": {
          "base_uri": "https://localhost:8080/"
        },
        "id": "r-xS1W6oanrP",
        "outputId": "9e99a839-d424-4a64-ac4a-7419a76a5138"
      },
      "execution_count": null,
      "outputs": [
        {
          "output_type": "stream",
          "name": "stdout",
          "text": [
            "Matriz 5x5:\n",
            " [[0.91029962 0.8736949  0.95205569 0.16587876 0.54636357]\n",
            " [0.64000278 0.81433224 0.72796323 0.56444902 0.58133893]\n",
            " [0.50656553 0.1330513  0.17426766 0.83499001 0.53716635]\n",
            " [0.17702115 0.90981347 0.20847979 0.51875341 0.12304037]\n",
            " [0.11996108 0.23459759 0.34823025 0.26585097 0.39200537]]\n",
            "\n",
            "Suma por columnas:\n",
            " [2.35385017 2.9654895  2.41099662 2.34992216 2.17991458]\n"
          ]
        }
      ]
    },
    {
      "cell_type": "markdown",
      "source": [
        "Cuarto ejercicio: Dado un array arr = np.array([1, 2, 3, 4, 5]), obtén su versión\n",
        "invertida."
      ],
      "metadata": {
        "id": "NbaaKdlJbO6z"
      }
    },
    {
      "cell_type": "code",
      "source": [
        "import numpy as np\n",
        "\n",
        "arr = np.array([1, 2, 3, 4, 5])\n",
        "invertido = arr[::-1]\n",
        "\n",
        "print(\"Array invertido:\", invertido)\n",
        "\n"
      ],
      "metadata": {
        "colab": {
          "base_uri": "https://localhost:8080/"
        },
        "id": "uRsrLeFDbNuK",
        "outputId": "34bbda4f-1147-4746-80c0-41c1143025c0"
      },
      "execution_count": null,
      "outputs": [
        {
          "output_type": "stream",
          "name": "stdout",
          "text": [
            "Array invertido: [5 4 3 2 1]\n"
          ]
        }
      ]
    },
    {
      "cell_type": "markdown",
      "source": [
        "Quinto ejercicio: Matriz identidad 6x6 multiplicada por 3"
      ],
      "metadata": {
        "id": "isJhySI_c6yW"
      }
    },
    {
      "cell_type": "code",
      "source": [
        "identidad = np.eye(6)\n",
        "resultado = identidad * 3\n",
        "\n",
        "print(\"Matriz identidad * 3:\\n\", resultado)\n"
      ],
      "metadata": {
        "colab": {
          "base_uri": "https://localhost:8080/"
        },
        "id": "jCasD__NcUkJ",
        "outputId": "77ede57a-b802-4836-b89a-5c633cc21cf8"
      },
      "execution_count": null,
      "outputs": [
        {
          "output_type": "stream",
          "name": "stdout",
          "text": [
            "Matriz identidad * 3:\n",
            " [[3. 0. 0. 0. 0. 0.]\n",
            " [0. 3. 0. 0. 0. 0.]\n",
            " [0. 0. 3. 0. 0. 0.]\n",
            " [0. 0. 0. 3. 0. 0.]\n",
            " [0. 0. 0. 0. 3. 0.]\n",
            " [0. 0. 0. 0. 0. 3.]]\n"
          ]
        }
      ]
    },
    {
      "cell_type": "markdown",
      "source": [
        "Sexto ejercicio: Array de 15 elementos entre 1 y 100 ordenado de mayor a menor"
      ],
      "metadata": {
        "id": "iOPLerMidD0h"
      }
    },
    {
      "cell_type": "code",
      "source": [
        "array = np.random.randint(1, 101, size=15)\n",
        "ordenado = np.sort(array)[::-1]\n",
        "\n",
        "print(\"Array original:\", array)\n",
        "print(\"Array ordenado de mayor a menor:\", ordenado)\n"
      ],
      "metadata": {
        "colab": {
          "base_uri": "https://localhost:8080/"
        },
        "id": "AhgzRTT_dEJt",
        "outputId": "1f232780-27db-4e08-85e7-e844bfce0b94"
      },
      "execution_count": null,
      "outputs": [
        {
          "output_type": "stream",
          "name": "stdout",
          "text": [
            "Array original: [ 92  50  78  58  20   7  12  40  13  94 100  25  50  77  63]\n",
            "Array ordenado de mayor a menor: [100  94  92  78  77  63  58  50  50  40  25  20  13  12   7]\n"
          ]
        }
      ]
    },
    {
      "cell_type": "markdown",
      "source": [
        "Septimo ejercicio:  Media, mediana y desviación estándar de un array de 30 valores aleatorios entre 0 y 100\n",
        "python\n",
        "Copiar\n",
        "Editar\n"
      ],
      "metadata": {
        "id": "WpEy_FJJdSOB"
      }
    },
    {
      "cell_type": "code",
      "source": [
        "datos = np.random.uniform(0, 100, 30)\n",
        "\n",
        "media = np.mean(datos)\n",
        "mediana = np.median(datos)\n",
        "desviacion = np.std(datos)\n",
        "\n",
        "print(\"Media:\", media)\n",
        "print(\"Mediana:\", mediana)\n",
        "print(\"Desviación estándar:\", desviacion)\n"
      ],
      "metadata": {
        "colab": {
          "base_uri": "https://localhost:8080/"
        },
        "id": "cdgCnuLddR8g",
        "outputId": "11f3ba0d-d24e-477b-d52a-f625e4559eca"
      },
      "execution_count": null,
      "outputs": [
        {
          "output_type": "stream",
          "name": "stdout",
          "text": [
            "Media: 48.74537752584823\n",
            "Mediana: 41.686850030332884\n",
            "Desviación estándar: 30.732153488655026\n"
          ]
        }
      ]
    },
    {
      "cell_type": "markdown",
      "source": [
        "Octavo ejercicio: Reemplaza la fila con el menor promedio por ceros en una matriz 6x3"
      ],
      "metadata": {
        "id": "9sx89J4ddqf1"
      }
    },
    {
      "cell_type": "code",
      "source": [
        "matriz = np.random.rand(6, 3)\n",
        "promedios = np.mean(matriz, axis=1)\n",
        "fila_menor = np.argmin(promedios)\n",
        "\n",
        "matriz[fila_menor] = 0\n",
        "\n",
        "print(\"Matriz modificada:\\n\", matriz)\n"
      ],
      "metadata": {
        "colab": {
          "base_uri": "https://localhost:8080/"
        },
        "id": "bhYRxt2xdqJs",
        "outputId": "fc6bcd1f-c8f5-4e18-ed61-ca62b01be22d"
      },
      "execution_count": null,
      "outputs": [
        {
          "output_type": "stream",
          "name": "stdout",
          "text": [
            "Matriz modificada:\n",
            " [[0.29668802 0.91006621 0.08650648]\n",
            " [0.30191327 0.31078509 0.92223613]\n",
            " [0.44001142 0.76859416 0.57715878]\n",
            " [0.         0.         0.        ]\n",
            " [0.47663631 0.75627705 0.61078409]\n",
            " [0.56039406 0.63295076 0.40709192]]\n"
          ]
        }
      ]
    },
    {
      "cell_type": "markdown",
      "source": [
        "Noveno ejercicoo: Array 3x4 con np.cumsum() por filas"
      ],
      "metadata": {
        "id": "ZctLMQoTdzPL"
      }
    },
    {
      "cell_type": "code",
      "source": [
        "array = np.random.randint(1, 10, size=(3, 4))\n",
        "cumsum_filas = np.cumsum(array, axis=1)\n",
        "\n",
        "print(\"Array original:\\n\", array)\n",
        "print(\"Cumsum por filas:\\n\", cumsum_filas)\n"
      ],
      "metadata": {
        "colab": {
          "base_uri": "https://localhost:8080/"
        },
        "id": "2ipuL5P8dzA7",
        "outputId": "e18e6798-7a2a-48e4-c4d0-81ba6de91aaf"
      },
      "execution_count": null,
      "outputs": [
        {
          "output_type": "stream",
          "name": "stdout",
          "text": [
            "Array original:\n",
            " [[9 1 5 1]\n",
            " [2 3 7 2]\n",
            " [7 9 5 8]]\n",
            "Cumsum por filas:\n",
            " [[ 9 10 15 16]\n",
            " [ 2  5 12 14]\n",
            " [ 7 16 21 29]]\n"
          ]
        }
      ]
    },
    {
      "cell_type": "markdown",
      "source": [
        "Decimo ejercicio: Extraer los elementos de la diagonal principal\n",
        "python\n",
        "\n"
      ],
      "metadata": {
        "id": "XV0YfZsyd8V3"
      }
    },
    {
      "cell_type": "code",
      "source": [
        "arr = np.array([[10, 20, 30], [40, 50, 60], [70, 80, 90]])\n",
        "diagonal = np.diag(arr)\n",
        "\n",
        "print(\"Diagonal principal:\", diagonal)\n"
      ],
      "metadata": {
        "colab": {
          "base_uri": "https://localhost:8080/"
        },
        "id": "2AEMKAiyd8Ja",
        "outputId": "8e7ac6bb-5d41-48a1-b379-9efa3b3e1f38"
      },
      "execution_count": null,
      "outputs": [
        {
          "output_type": "stream",
          "name": "stdout",
          "text": [
            "Diagonal principal: [10 50 90]\n"
          ]
        }
      ]
    },
    {
      "cell_type": "markdown",
      "source": [
        "Once: Crea un DataFrame con las columnas: Nombre, Edad, Ciudad, Salario con al\n",
        "menos 5 registros. Filtra los registros con salario mayor a 2.000.000."
      ],
      "metadata": {
        "id": "rLWrasPZ5yfY"
      }
    },
    {
      "cell_type": "code",
      "source": [
        "data = {\n",
        "    'Nombre': ['Ana', 'Luis', 'Carlos', 'Marta', 'Juan'],\n",
        "    'Edad': [28, 35, 22, 40, 30],\n",
        "    'Ciudad': ['Bogotá', 'Medellín', 'Cali', 'Bogotá', 'Cali'],\n",
        "    'Salario': [2500000, 1800000, 2200000, 3000000, 1500000]\n",
        "}\n",
        "df = pd.DataFrame(data)\n",
        "print(\"DataFrame original:\")\n",
        "print(df)\n",
        "\n",
        "df_filtrado = df[df['Salario'] > 2000000]\n",
        "print(\"\\nSalarios mayores a 2.000.000:\")\n",
        "print(df_filtrado)"
      ],
      "metadata": {
        "id": "pWzY-5ae5wpk"
      },
      "execution_count": null,
      "outputs": []
    },
    {
      "cell_type": "markdown",
      "source": [
        "Doce: Importa un CSV desde una URL o archivo local y muestra las 10 primeras filas\n",
        "y las 5 últimas."
      ],
      "metadata": {
        "id": "zYrbt9XJ6D_C"
      }
    },
    {
      "cell_type": "code",
      "source": [
        "from google.colab import files\n",
        "uploaded = files.upload()\n",
        "df_csv = pd.read_csv('archivo.csv')\n",
        "print(\"\\nPrimeras 10 filas del CSV:\")\n",
        "print(df_csv.head(10))\n",
        "print(\"\\nÚltimas 5 filas del CSV:\")\n",
        "print(df_csv.tail(5))"
      ],
      "metadata": {
        "id": "8lQJH5Bh6DgJ"
      },
      "execution_count": null,
      "outputs": []
    },
    {
      "cell_type": "markdown",
      "source": [
        "Trece: A partir de un DataFrame con una columna de fechas, crea una nueva columna\n",
        "con el nombre del mes."
      ],
      "metadata": {
        "id": "jRKNv-y76LjR"
      }
    },
    {
      "cell_type": "code",
      "source": [
        "df_fechas = pd.DataFrame({\n",
        "    'Fecha': pd.to_datetime(['2025-01-10', '2025-03-22', '2025-07-15'])\n",
        "})\n",
        "df_fechas['Mes'] = df_fechas['Fecha'].dt.month_name()\n",
        "print(\"\\nDataFrame con nombre del mes:\")\n",
        "print(df_fechas)"
      ],
      "metadata": {
        "id": "-IWPu2iI6JYR"
      },
      "execution_count": null,
      "outputs": []
    },
    {
      "cell_type": "markdown",
      "source": [
        "Catorce: Agrupa un DataFrame por la columna Ciudad y calcula el salario promedio por\n",
        "ciudad."
      ],
      "metadata": {
        "id": "gGR5Jlc-6R_5"
      }
    },
    {
      "cell_type": "code",
      "source": [
        "salario_promedio = df.groupby('Ciudad')['Salario'].mean()\n",
        "print(\"\\nSalario promedio por ciudad:\")\n",
        "print(salario_promedio)"
      ],
      "metadata": {
        "id": "IA98tiuv7SMr"
      },
      "execution_count": null,
      "outputs": []
    },
    {
      "cell_type": "markdown",
      "source": [
        "Quince: Agrega una columna que indique si la persona es menor de 30 años (True o\n",
        "False)."
      ],
      "metadata": {
        "id": "W6A0pQeT6Wyg"
      }
    },
    {
      "cell_type": "code",
      "source": [
        "df['Menor_de_30'] = df['Edad'] < 30\n",
        "print(\"\\nColumna 'Menor_de_30':\")\n",
        "print(df)\n"
      ],
      "metadata": {
        "id": "vuZ7v32Q7W7Q"
      },
      "execution_count": null,
      "outputs": []
    },
    {
      "cell_type": "markdown",
      "source": [
        "Diéciseis: Reemplaza todos los valores nulos de una columna llamada Salario por el\n",
        "promedio de esa columna."
      ],
      "metadata": {
        "id": "0DfGuOrH6aAa"
      }
    },
    {
      "cell_type": "code",
      "source": [
        "df_con_nulos = df.copy()\n",
        "df_con_nulos.loc[2, 'Salario'] = None  # simular un valor nulo\n",
        "\n",
        "promedio_salario = df_con_nulos['Salario'].mean()\n",
        "df_con_nulos['Salario'].fillna(promedio_salario, inplace=True)\n",
        "print(\"\\nSalario con valores nulos reemplazados por el promedio:\")\n",
        "print(df_con_nulos)"
      ],
      "metadata": {
        "id": "CranFHS47ZZd"
      },
      "execution_count": null,
      "outputs": []
    },
    {
      "cell_type": "markdown",
      "source": [
        "Diécisiete: Crea un DataFrame con columnas duplicadas y elimina las duplicadas dejando\n",
        "solo una copia."
      ],
      "metadata": {
        "id": "KrrH3Jfp6ePg"
      }
    },
    {
      "cell_type": "code",
      "source": [
        "df_dup = pd.DataFrame({\n",
        "    'Nombre': ['Ana', 'Luis'],\n",
        "    'Edad': [28, 35],\n",
        "    'Nombre': ['Ana', 'Luis']  # columna duplicada simulada\n",
        "})\n",
        "df_sin_dup = df_dup.loc[:, ~df_dup.columns.duplicated()]\n",
        "print(\"\\nDataFrame sin columnas duplicadas:\")\n",
        "print(df_sin_dup)"
      ],
      "metadata": {
        "id": "kWJj1flV7cXk"
      },
      "execution_count": null,
      "outputs": []
    },
    {
      "cell_type": "markdown",
      "source": [
        "Diéciocho: Ordena un DataFrame por dos columnas: primero por Ciudad alfabéticamente\n",
        "y luego por Edad de mayor a menor."
      ],
      "metadata": {
        "id": "y7VAK0pZ6i_O"
      }
    },
    {
      "cell_type": "code",
      "source": [
        "df_ordenado = df.sort_values(by=['Ciudad', 'Edad'], ascending=[True, False])\n",
        "print(\"\\nDataFrame ordenado por Ciudad (A-Z) y Edad (mayor a menor):\")\n",
        "print(df_ordenado)"
      ],
      "metadata": {
        "id": "n0f7vT2H7hm1"
      },
      "execution_count": null,
      "outputs": []
    },
    {
      "cell_type": "markdown",
      "source": [
        "Diécinueve: Dado el siguiente DataFrame\n",
        "df = pd.DataFrame({\n",
        "'Producto': ['A', 'B', 'A', 'C', 'B', 'A'],\n",
        "'Precio': [1200, 1500, 1300, 1000, 1600, 1250],\n",
        "'Cantidad': [3, 2, 5, 1, 2, 4]\n",
        "})\n",
        "\n",
        "Agrupa por Producto, calcula el ingreso total (Precio * Cantidad) por producto y\n",
        "ordénalo de mayor a menor."
      ],
      "metadata": {
        "id": "WxSdD85d6nyQ"
      }
    },
    {
      "cell_type": "code",
      "source": [
        "import pandas as pd\n",
        "df = pd.DataFrame({\n",
        "    'Producto': ['A', 'B', 'A', 'C', 'B', 'A'],\n",
        "    'Precio': [1200, 1500, 1300, 1000, 1600, 1250],\n",
        "    'Cantidad': [3, 2, 5, 1, 2, 4]\n",
        "    })\n",
        "df['Ingreso'] = df['Precio'] * df['Cantidad']\n",
        "ingresos_por_producto = df.groupby('Producto')['Ingreso'].sum()\n",
        "ingresos_ordenados = ingresos_por_producto.sort_values(ascending=False)\n",
        "print(ingresos_ordenados)"
      ],
      "metadata": {
        "id": "cZWrOwZe7k52"
      },
      "execution_count": null,
      "outputs": []
    },
    {
      "cell_type": "markdown",
      "source": [
        "Veinte: Con un DataFrame de 1000 registros de ventas simuladas (puedes generarlo\n",
        "con datos aleatorios que incluyan columnas como fecha, producto,\n",
        "cantidad, precio_unitario, zona), responde:\n",
        "● ¿Cuál es el producto más vendido por zona?\n",
        "● ¿Qué día del mes se obtienen más ingresos?"
      ],
      "metadata": {
        "id": "9hX7LNP46tCQ"
      }
    },
    {
      "cell_type": "code",
      "source": [
        "import pandas as pd\n",
        "import numpy as np\n",
        "import random\n",
        "from datetime import datetime, timedelta\n",
        "start_date = datetime(2023, 1, 1)\n",
        "end_date = datetime(2024, 1, 1)\n",
        "dates = [start_date + timedelta(days=random.randint(0, (end_date - start_date).days)) for _ in range(1000)]\n",
        "productos = ['Producto ' + str(i) for i in range(1, 21)]\n",
        "zonas = ['Norte', 'Sur', 'Este', 'Oeste']\n",
        "data = {\n",
        "    'fecha': dates,\n",
        "    'producto': [random.choice(productos) for _ in range(1000)],\n",
        "    'cantidad': np.random.randint(1, 11, size=1000),\n",
        "    'precio_unitario': np.random.uniform(10, 200, size=1000).round(2),\n",
        "    'zona': [random.choice(zonas) for _ in range(1000)]\n",
        "}\n",
        "df_ventas = pd.DataFrame(data)\n",
        "ventas_por_zona = df_ventas.groupby(['zona', 'producto'])['cantidad'].sum().reset_index()\n",
        "producto_mas_vendido_por_zona = ventas_por_zona.sort_values('cantidad', ascending=False).groupby('zona').first().reset_index()\n",
        "print(producto_mas_vendido_por_zona)\n",
        "df_ventas['ingreso'] = df_ventas['cantidad'] * df_ventas['precio_unitario']\n",
        "ingresos_por_dia = df_ventas.groupby(df_ventas['fecha'].dt.day)['ingreso'].sum().reset_index()\n",
        "dia_max_ingresos = ingresos_por_dia.sort_values('ingreso', ascending=False).head(1)\n",
        "\n",
        "print(\"Día del mes con más ingresos:\")\n",
        "print(dia_max_ingresos)"
      ],
      "metadata": {
        "id": "GMScwAKf7nyC"
      },
      "execution_count": null,
      "outputs": []
    }
  ]
}